{
 "cells": [
  {
   "attachments": {},
   "cell_type": "markdown",
   "metadata": {},
   "source": [
    "# Модули\n",
    "  \n",
    "Python позволяет поместить классы, функции или данные в отдельный файл и использовать их в других программах. Такой файл называется модулем. Объекты из модуля могут быть импортированы в другие модули.  \n",
    "  \n",
    "Для создания псевдонима используется ключевое слово as. По сути, с помощью этой конструкции можно поместить импортируемый модуль в переменную. Здесь мы помещаем класс country_data в переменную CD"
   ]
  },
  {
   "cell_type": "code",
   "execution_count": null,
   "metadata": {},
   "outputs": [],
   "source": [
    "import random\n",
    "import selenium\n",
    "from selenium import webdriver\n",
    "# from homework.eugene_okulik.country_data import CountryData, var\n",
    "from homework.eugene_okulik import country_data as CD\n",
    "from homework.eugene_okulik.test11 import country_data as CD_new\n",
    "\n",
    "        \n",
    "data1 = CD.CountryData('data1.txt')\n",
    "print(data1.country)\n",
    "data2 = CD.CountryData('data2.txt')\n",
    "print(data2.avg_temp)\n",
    "CD.var\n"
   ]
  },
  {
   "attachments": {},
   "cell_type": "markdown",
   "metadata": {},
   "source": [
    "При импортировании модуля весь файл модуля сразу выполняется. Поэтому все действия внутри такого модуля должны находиться внутри функций, для того чтобы можно было управлять тем, что запускается.\n",
    "Но бывают ситуации, когда какой-то модуль предназначен не только для использования при импортировании, но и для непоследственного запуска вручную. В случае, если при непосредственном запуске нужно вызвать какую-то функцию или выполнить какую-то команду, используется конструкция описанная ниже. Условие \"if __name__ == '__main__':\" проверяет, что файл запущен напрямую, не с помощью импорта."
   ]
  },
  {
   "cell_type": "code",
   "execution_count": null,
   "metadata": {},
   "outputs": [],
   "source": [
    "def print_text():\n",
    "    print('hello')\n",
    "\n",
    "if __name__ == '__main__':\n",
    "    print_text()"
   ]
  },
  {
   "attachments": {},
   "cell_type": "markdown",
   "metadata": {},
   "source": [
    "# Exception\n",
    "  \n",
    "Исключения необходимы, чтобы сообщать программисту об ошибках.\n",
    "Простейший пример исключения - деление на ноль.\n",
    "При анализе исключения, чаще всего основная проблема будет указана в самом низу текста ошибки (Traceback)."
   ]
  },
  {
   "cell_type": "code",
   "execution_count": 1,
   "metadata": {},
   "outputs": [
    {
     "ename": "ZeroDivisionError",
     "evalue": "division by zero",
     "output_type": "error",
     "traceback": [
      "\u001b[0;31m---------------------------------------------------------------------------\u001b[0m",
      "\u001b[0;31mZeroDivisionError\u001b[0m                         Traceback (most recent call last)",
      "Cell \u001b[0;32mIn[1], line 7\u001b[0m\n\u001b[1;32m      4\u001b[0m \u001b[39mdef\u001b[39;00m \u001b[39mmy_fun2\u001b[39m(a):\n\u001b[1;32m      5\u001b[0m     \u001b[39mreturn\u001b[39;00m my_fun1(a)\n\u001b[0;32m----> 7\u001b[0m my_fun2(\u001b[39m12\u001b[39;49m)\n",
      "Cell \u001b[0;32mIn[1], line 5\u001b[0m, in \u001b[0;36mmy_fun2\u001b[0;34m(a)\u001b[0m\n\u001b[1;32m      4\u001b[0m \u001b[39mdef\u001b[39;00m \u001b[39mmy_fun2\u001b[39m(a):\n\u001b[0;32m----> 5\u001b[0m     \u001b[39mreturn\u001b[39;00m my_fun1(a)\n",
      "Cell \u001b[0;32mIn[1], line 2\u001b[0m, in \u001b[0;36mmy_fun1\u001b[0;34m(a)\u001b[0m\n\u001b[1;32m      1\u001b[0m \u001b[39mdef\u001b[39;00m \u001b[39mmy_fun1\u001b[39m(a):\n\u001b[0;32m----> 2\u001b[0m     \u001b[39mreturn\u001b[39;00m a \u001b[39m/\u001b[39;49m \u001b[39m0\u001b[39;49m\n",
      "\u001b[0;31mZeroDivisionError\u001b[0m: division by zero"
     ]
    }
   ],
   "source": [
    "def my_fun1(a):\n",
    "    return a / 0\n",
    "\n",
    "def my_fun2(a):\n",
    "    return my_fun1(a)\n",
    "\n",
    "my_fun2(12)"
   ]
  },
  {
   "attachments": {},
   "cell_type": "markdown",
   "metadata": {},
   "source": [
    "Типы исключений:  \n",
    "* Системные исключения и ошибки\n",
    "* Обыкновенные исключения"
   ]
  },
  {
   "attachments": {},
   "cell_type": "markdown",
   "metadata": {},
   "source": [
    "К системным можно смело отнести:\n",
    "\n",
    "* SystemExit - исключение, порождаемое функцией sys.exit при выходе из программы.\n",
    "* KeyboardInterrupt - возникает при прерывании программы пользователем (обычно сочетанием клавиш Ctrl+C).\n",
    "* GeneratorExit — возникает при вызове метода close объекта generator."
   ]
  },
  {
   "attachments": {},
   "cell_type": "markdown",
   "metadata": {},
   "source": [
    "## Системные исключения"
   ]
  },
  {
   "attachments": {},
   "cell_type": "markdown",
   "metadata": {},
   "source": [
    "KeyboardInterrupt возникает в случае, когда пользователь нажал сочетание клавиш ctrl+c - это остовной метод прерывания работы программ в терминале."
   ]
  },
  {
   "cell_type": "code",
   "execution_count": 2,
   "metadata": {},
   "outputs": [
    {
     "name": "stdout",
     "output_type": "stream",
     "text": [
      "1\n",
      "1\n",
      "1\n",
      "1\n",
      "1\n",
      "1\n",
      "1\n",
      "1\n",
      "1\n",
      "1\n",
      "1\n",
      "1\n",
      "1\n"
     ]
    },
    {
     "ename": "KeyboardInterrupt",
     "evalue": "",
     "output_type": "error",
     "traceback": [
      "\u001b[0;31m---------------------------------------------------------------------------\u001b[0m",
      "\u001b[0;31mKeyboardInterrupt\u001b[0m                         Traceback (most recent call last)",
      "Cell \u001b[0;32mIn[2], line 4\u001b[0m\n\u001b[1;32m      2\u001b[0m \u001b[39mwhile\u001b[39;00m \u001b[39mTrue\u001b[39;00m:\n\u001b[1;32m      3\u001b[0m     \u001b[39mprint\u001b[39m(\u001b[39m1\u001b[39m)\n\u001b[0;32m----> 4\u001b[0m     sleep(\u001b[39m2\u001b[39;49m)\n",
      "\u001b[0;31mKeyboardInterrupt\u001b[0m: "
     ]
    }
   ],
   "source": [
    "from time import sleep\n",
    "while True:\n",
    "    print(1)\n",
    "    sleep(2)"
   ]
  },
  {
   "attachments": {},
   "cell_type": "markdown",
   "metadata": {},
   "source": [
    "Обыкновенные исключения"
   ]
  },
  {
   "attachments": {},
   "cell_type": "markdown",
   "metadata": {},
   "source": [
    "![](image.png)"
   ]
  },
  {
   "cell_type": "code",
   "execution_count": 3,
   "metadata": {},
   "outputs": [
    {
     "ename": "KeyError",
     "evalue": "3",
     "output_type": "error",
     "traceback": [
      "\u001b[0;31m---------------------------------------------------------------------------\u001b[0m",
      "\u001b[0;31mKeyError\u001b[0m                                  Traceback (most recent call last)",
      "Cell \u001b[0;32mIn[3], line 3\u001b[0m\n\u001b[1;32m      1\u001b[0m my_dict \u001b[39m=\u001b[39m {\u001b[39m1\u001b[39m: \u001b[39m1\u001b[39m, \u001b[39m2\u001b[39m: \u001b[39m2\u001b[39m}\n\u001b[0;32m----> 3\u001b[0m \u001b[39mprint\u001b[39m(my_dict[\u001b[39m3\u001b[39;49m])\n",
      "\u001b[0;31mKeyError\u001b[0m: 3"
     ]
    }
   ],
   "source": [
    "my_dict = {1: 1, 2: 2}\n",
    "\n",
    "print(my_dict[3])"
   ]
  },
  {
   "cell_type": "code",
   "execution_count": 4,
   "metadata": {},
   "outputs": [
    {
     "ename": "IndexError",
     "evalue": "list index out of range",
     "output_type": "error",
     "traceback": [
      "\u001b[0;31m---------------------------------------------------------------------------\u001b[0m",
      "\u001b[0;31mIndexError\u001b[0m                                Traceback (most recent call last)",
      "Cell \u001b[0;32mIn[4], line 3\u001b[0m\n\u001b[1;32m      1\u001b[0m my_list \u001b[39m=\u001b[39m [\u001b[39m1\u001b[39m, \u001b[39m2\u001b[39m, \u001b[39m3\u001b[39m]\n\u001b[0;32m----> 3\u001b[0m \u001b[39mprint\u001b[39m(my_list[\u001b[39m3\u001b[39;49m])\n",
      "\u001b[0;31mIndexError\u001b[0m: list index out of range"
     ]
    }
   ],
   "source": [
    "my_list = [1, 2, 3]\n",
    "\n",
    "print(my_list[3])"
   ]
  },
  {
   "attachments": {},
   "cell_type": "markdown",
   "metadata": {},
   "source": [
    "## Обработка исключений\n",
    "Для ловли ошибок используется синтаксическая конструкция try..except. В блок try помещается участок кода, в котором ожидается некорректное поведение. В блоке except находится инструкции, которые применяются в случае появление ошибки."
   ]
  },
  {
   "cell_type": "code",
   "execution_count": 8,
   "metadata": {},
   "outputs": [
    {
     "name": "stdout",
     "output_type": "stream",
     "text": [
      "-4.0\n",
      "AAAAAAAAAAAAAAAAAA\n",
      "Impossible to divide by zero\n",
      "0.0\n",
      "-2.0\n",
      "AAAAAAAAAAAAAAAAAA\n",
      "Impossible to divide by zero\n",
      "4.0\n",
      "-0.5\n",
      "2.0\n",
      "AAAAAAAAAAAAAAAAAA\n",
      "Impossible to divide by zero\n",
      "-1.0\n",
      "0.0\n",
      "AAAAAAAAAAAAAAAAAA\n",
      "Impossible to divide by zero\n",
      "AAAAAAAAAAAAAAAAAA\n",
      "Impossible to divide by zero\n",
      "1.0\n",
      "-2.0\n",
      "-0.25\n",
      "AAAAAAAAAAAAAAAAAA\n",
      "Impossible to divide by zero\n",
      "0.25\n",
      "-2.0\n",
      "0.0\n"
     ]
    }
   ],
   "source": [
    "import random\n",
    "\n",
    "def div_calc(a, b):\n",
    "    try:\n",
    "        return a / b\n",
    "    except ZeroDivisionError:\n",
    "        print('AAAAAAAAAAAAAAAAAA')\n",
    "        return 'Impossible to divide by zero'\n",
    "\n",
    "for _ in range(20):\n",
    "    print(div_calc(random.randrange(-1, 5), random.randrange(-1, 5)))"
   ]
  },
  {
   "cell_type": "code",
   "execution_count": 10,
   "metadata": {},
   "outputs": [
    {
     "name": "stdout",
     "output_type": "stream",
     "text": [
      "-0.0\n",
      "0.25\n",
      "0.0\n",
      "1.0\n",
      "n/a\n",
      "-0.0\n",
      "-4.0\n",
      "1.3333333333333333\n",
      "0.5\n",
      "0.6666666666666666\n",
      "n/a\n",
      "4.0\n",
      "0.3333333333333333\n",
      "-1.0\n",
      "0.0\n",
      "1.0\n",
      "n/a\n",
      "-3.0\n",
      "n/a\n",
      "3.0\n"
     ]
    }
   ],
   "source": [
    "import random\n",
    "\n",
    "def div_calc(a, b):\n",
    "    return a / b\n",
    "\n",
    "for _ in range(20):\n",
    "    try:\n",
    "        print(div_calc(random.randrange(-1, 5), random.randrange(-1, 5)))\n",
    "    except ZeroDivisionError:\n",
    "        print('n/a')"
   ]
  },
  {
   "cell_type": "code",
   "execution_count": 17,
   "metadata": {},
   "outputs": [
    {
     "name": "stdout",
     "output_type": "stream",
     "text": [
      "1.0\n",
      "('division by zero',)\n",
      "-2.0\n",
      "0.3333333333333333\n",
      "0.0\n",
      "('division by zero',)\n",
      "1.0\n",
      "key\n",
      "0.5\n",
      "1.0\n",
      "1.5\n",
      "0.25\n",
      "0.6666666666666666\n",
      "('division by zero',)\n",
      "2.0\n",
      "0.6666666666666666\n",
      "2.0\n",
      "2.0\n",
      "0.5\n",
      "('division by zero',)\n"
     ]
    }
   ],
   "source": [
    "import random\n",
    "\n",
    "my_dict = {1: 1, 2: 2, 3: 3, 4: 4}\n",
    "\n",
    "def div_calc(a, b):\n",
    "    if b == 1:\n",
    "        my_dict[0]\n",
    "    return a / b\n",
    "\n",
    "for _ in range(20):\n",
    "    try:\n",
    "        print(div_calc(random.randrange(0, 5), random.randrange(-1, 5)))\n",
    "    except ZeroDivisionError as err:\n",
    "        print(err.args)\n",
    "    except KeyError:\n",
    "        print('key')"
   ]
  },
  {
   "attachments": {},
   "cell_type": "markdown",
   "metadata": {},
   "source": [
    "Самостоятельный возврат исключения производится с помощью конструкции raise. После raise необходимо указать название исключения. В скобках можно добавить содержание этому исключению."
   ]
  },
  {
   "cell_type": "code",
   "execution_count": 24,
   "metadata": {},
   "outputs": [
    {
     "name": "stdout",
     "output_type": "stream",
     "text": [
      "0.0\n",
      "0.25\n",
      "1.0\n",
      "None\n",
      "0.5\n",
      "None\n",
      "None\n",
      "0.25\n",
      "None\n",
      "None\n",
      "0.0\n",
      "-0.0\n",
      "0.5\n",
      "0.6666666666666666\n",
      "0.25\n",
      "None\n",
      "0.0\n",
      "-0.0\n",
      "1.5\n",
      "-3.0\n"
     ]
    }
   ],
   "source": [
    "import random\n",
    "\n",
    "my_dict = {1: 1, 2: 2, 3: 3, 4: 4}\n",
    "\n",
    "def div_calc(a, b):\n",
    "    if b == 1:\n",
    "        my_dict[10]\n",
    "    return a / b\n",
    "\n",
    "for _ in range(20):\n",
    "    try:\n",
    "        print(div_calc(random.randrange(0, 5), random.randrange(-1, 5)))\n",
    "    except Exception as err:\n",
    "        send_to_tg('something wrong')\n",
    "        raise err"
   ]
  },
  {
   "cell_type": "code",
   "execution_count": 33,
   "metadata": {},
   "outputs": [
    {
     "name": "stdout",
     "output_type": "stream",
     "text": [
      "3\n"
     ]
    },
    {
     "ename": "ArithmeticError",
     "evalue": "не хочу умножать 2",
     "output_type": "error",
     "traceback": [
      "\u001b[0;31m---------------------------------------------------------------------------\u001b[0m",
      "\u001b[0;31mArithmeticError\u001b[0m                           Traceback (most recent call last)",
      "Cell \u001b[0;32mIn[33], line 8\u001b[0m\n\u001b[1;32m      4\u001b[0m     \u001b[39mreturn\u001b[39;00m a \u001b[39m*\u001b[39m \u001b[39m3\u001b[39m\n\u001b[1;32m      7\u001b[0m \u001b[39mfor\u001b[39;00m i \u001b[39min\u001b[39;00m \u001b[39mrange\u001b[39m(\u001b[39m1\u001b[39m, \u001b[39m4\u001b[39m):\n\u001b[0;32m----> 8\u001b[0m     \u001b[39mprint\u001b[39m(my_func3(i))\n",
      "Cell \u001b[0;32mIn[33], line 3\u001b[0m, in \u001b[0;36mmy_func3\u001b[0;34m(a)\u001b[0m\n\u001b[1;32m      1\u001b[0m \u001b[39mdef\u001b[39;00m \u001b[39mmy_func3\u001b[39m(a):\n\u001b[1;32m      2\u001b[0m     \u001b[39mif\u001b[39;00m a \u001b[39m==\u001b[39m \u001b[39m2\u001b[39m:\n\u001b[0;32m----> 3\u001b[0m         \u001b[39mraise\u001b[39;00m \u001b[39mArithmeticError\u001b[39;00m(\u001b[39m'\u001b[39m\u001b[39mне хочу умножать 2\u001b[39m\u001b[39m'\u001b[39m)\n\u001b[1;32m      4\u001b[0m     \u001b[39mreturn\u001b[39;00m a \u001b[39m*\u001b[39m \u001b[39m3\u001b[39m\n",
      "\u001b[0;31mArithmeticError\u001b[0m: не хочу умножать 2"
     ]
    }
   ],
   "source": [
    "def my_func3(a):\n",
    "    if a == 2:\n",
    "        raise ArithmeticError('не хочу умножать 2')\n",
    "    return a * 3\n",
    "\n",
    "\n",
    "for i in range(1, 4):\n",
    "    print(my_func3(i))"
   ]
  },
  {
   "cell_type": "code",
   "execution_count": 36,
   "metadata": {},
   "outputs": [
    {
     "ename": "NotImplementedError",
     "evalue": "Sea cats dont have legs",
     "output_type": "error",
     "traceback": [
      "\u001b[0;31m---------------------------------------------------------------------------\u001b[0m",
      "\u001b[0;31mNotImplementedError\u001b[0m                       Traceback (most recent call last)",
      "Cell \u001b[0;32mIn[36], line 29\u001b[0m\n\u001b[1;32m     25\u001b[0m         \u001b[39mraise\u001b[39;00m \u001b[39mNotImplementedError\u001b[39;00m(\u001b[39m'\u001b[39m\u001b[39mSea cats dont have legs\u001b[39m\u001b[39m'\u001b[39m)\n\u001b[1;32m     28\u001b[0m kotik \u001b[39m=\u001b[39m SeaCat()\n\u001b[0;32m---> 29\u001b[0m kotik\u001b[39m.\u001b[39;49mgo()\n",
      "Cell \u001b[0;32mIn[36], line 25\u001b[0m, in \u001b[0;36mSeaCat.go\u001b[0;34m(self)\u001b[0m\n\u001b[1;32m     24\u001b[0m \u001b[39mdef\u001b[39;00m \u001b[39mgo\u001b[39m(\u001b[39mself\u001b[39m):\n\u001b[0;32m---> 25\u001b[0m     \u001b[39mraise\u001b[39;00m \u001b[39mNotImplementedError\u001b[39;00m(\u001b[39m'\u001b[39m\u001b[39mSea cats dont have legs\u001b[39m\u001b[39m'\u001b[39m)\n",
      "\u001b[0;31mNotImplementedError\u001b[0m: Sea cats dont have legs"
     ]
    }
   ],
   "source": [
    "class Cat:\n",
    "    pows = 4\n",
    "    tail = True\n",
    "    eyes = 2\n",
    "    fur = True\n",
    "\n",
    "    def go(self):\n",
    "        # команды, описывающие как ходит кот\n",
    "        print('иду')\n",
    "\n",
    "    def eat(self):\n",
    "        print('ням ням')\n",
    "\n",
    "    def sleep(self):\n",
    "        pass\n",
    "\n",
    "    def meow(self):\n",
    "        pass\n",
    "\n",
    "class SeaCat(Cat):\n",
    "    def __init__(self) -> None:\n",
    "        super().__init__()\n",
    "\n",
    "    def go(self):\n",
    "        raise NotImplementedError('Sea cats dont have legs')\n",
    "\n",
    "\n",
    "kotik = SeaCat()\n",
    "kotik.go()"
   ]
  },
  {
   "attachments": {},
   "cell_type": "markdown",
   "metadata": {},
   "source": [
    "### Создание собственного исключения\n",
    "Исключение - это класс, который наследует класс Exception. "
   ]
  },
  {
   "cell_type": "code",
   "execution_count": 38,
   "metadata": {},
   "outputs": [
    {
     "ename": "MyException",
     "evalue": "prichina",
     "output_type": "error",
     "traceback": [
      "\u001b[0;31m---------------------------------------------------------------------------\u001b[0m",
      "\u001b[0;31mMyException\u001b[0m                               Traceback (most recent call last)",
      "Cell \u001b[0;32mIn[38], line 11\u001b[0m\n\u001b[1;32m      8\u001b[0m         \u001b[39mif\u001b[39;00m i \u001b[39m==\u001b[39m \u001b[39m3\u001b[39m:\n\u001b[1;32m      9\u001b[0m             \u001b[39mraise\u001b[39;00m MyException(\u001b[39m'\u001b[39m\u001b[39mprichina\u001b[39m\u001b[39m'\u001b[39m)\n\u001b[0;32m---> 11\u001b[0m my_code()\n",
      "Cell \u001b[0;32mIn[38], line 9\u001b[0m, in \u001b[0;36mmy_code\u001b[0;34m()\u001b[0m\n\u001b[1;32m      7\u001b[0m \u001b[39mfor\u001b[39;00m i \u001b[39min\u001b[39;00m \u001b[39mrange\u001b[39m(\u001b[39m5\u001b[39m):\n\u001b[1;32m      8\u001b[0m     \u001b[39mif\u001b[39;00m i \u001b[39m==\u001b[39m \u001b[39m3\u001b[39m:\n\u001b[0;32m----> 9\u001b[0m         \u001b[39mraise\u001b[39;00m MyException(\u001b[39m'\u001b[39m\u001b[39mprichina\u001b[39m\u001b[39m'\u001b[39m)\n",
      "\u001b[0;31mMyException\u001b[0m: prichina"
     ]
    }
   ],
   "source": [
    "class MyException(Exception):\n",
    "    def __init__(self, message=None) -> None:\n",
    "        super().__init__(message)\n",
    "\n",
    "\n",
    "def my_code():\n",
    "    for i in range(5):\n",
    "        if i == 3:\n",
    "            raise MyException('prichina')\n",
    "        \n",
    "my_code()"
   ]
  },
  {
   "attachments": {},
   "cell_type": "markdown",
   "metadata": {},
   "source": [
    "# Функции генераторы\n",
    "Отличие генераторов от обычной функции состоит в том, что функция возвращает только одно значение с помощью ключевого слова return, а генератор возвращает новый объект при каждом вызове с помощью yield. По сути генератор ведет себя как итератор, что позволяет использовать его в цикле for."
   ]
  },
  {
   "cell_type": "code",
   "execution_count": 48,
   "metadata": {},
   "outputs": [
    {
     "name": "stdout",
     "output_type": "stream",
     "text": [
      "0\n",
      "1\n",
      "2\n",
      "3\n",
      "4\n",
      "bye\n",
      "0\n",
      "1\n",
      "2\n",
      "3\n",
      "4\n"
     ]
    }
   ],
   "source": [
    "def my_func4():\n",
    "    return 'ertert', 'dfdfgdfg'\n",
    "\n",
    "def my_gen():\n",
    "    for i in range(5):\n",
    "        yield i\n",
    "    print('bye')\n",
    "\n",
    "def my_kak_gen():\n",
    "    my_list = [i for i in range(5)]\n",
    "    return my_list\n",
    "    print('bye')\n",
    "\n",
    "# print(list(my_gen()))\n",
    "\n",
    "for i in my_gen():\n",
    "    print(i)\n",
    "\n",
    "for i in my_kak_gen():\n",
    "    print(i)\n"
   ]
  },
  {
   "attachments": {},
   "cell_type": "markdown",
   "metadata": {},
   "source": [
    "Если после `return` мы больше ничего не можем дописать в функцию, то после `yield` это сделать можно"
   ]
  },
  {
   "cell_type": "code",
   "execution_count": 51,
   "metadata": {},
   "outputs": [
    {
     "name": "stdout",
     "output_type": "stream",
     "text": [
      "5\n",
      "bye\n"
     ]
    }
   ],
   "source": [
    "def my_func5():\n",
    "    yield 5\n",
    "    print('bye')\n",
    "\n",
    "for x in my_func5():    \n",
    "    print(x)\n"
   ]
  },
  {
   "attachments": {},
   "cell_type": "markdown",
   "metadata": {},
   "source": [
    "# Итераторы\n",
    "Вот что происходит под капотом, когда мы создаем цикл `for`:  \n",
    "Питон вызывает итератор для той переменной, по которой мы собираемся пробежаться с помощью встроенной функции `__iter__()`, а потом бесконечно вызывает для этого итератора функцию `__next__()` пока не наткнется на исключение `StopIteration`  \n",
    "Это хороший пример того, что исключения не всегда говорят об ошибке, а в каких-то ситуациях могут быть индикатором для совершения (или прекращения) какого-то действия."
   ]
  },
  {
   "cell_type": "code",
   "execution_count": 59,
   "metadata": {},
   "outputs": [
    {
     "name": "stdout",
     "output_type": "stream",
     "text": [
      "1\n",
      "2\n",
      "3\n",
      "4\n",
      "1\n",
      "2\n",
      "3\n",
      "4\n"
     ]
    }
   ],
   "source": [
    "y_list = [1, 2, 3, 4]\n",
    "\n",
    "# for i in y_list:\n",
    "#     print(i)\n",
    "\n",
    "\n",
    "\n",
    "y_list_iterable = y_list.__iter__()\n",
    "# print(y_list_iterable)\n",
    "print(y_list_iterable.__next__())\n",
    "print(y_list_iterable.__next__())\n",
    "print(y_list_iterable.__next__())\n",
    "print(y_list_iterable.__next__())\n",
    "try:\n",
    "    print(y_list_iterable.__next__())\n",
    "except StopIteration:\n",
    "    pass\n",
    "\n",
    "y_list_iterable = y_list.__iter__()\n",
    "while True:\n",
    "    try:\n",
    "        print(y_list_iterable.__next__())\n",
    "    except StopIteration:\n",
    "        break\n",
    "\n",
    "\n"
   ]
  }
 ],
 "metadata": {
  "kernelspec": {
   "display_name": "venv",
   "language": "python",
   "name": "python3"
  },
  "language_info": {
   "codemirror_mode": {
    "name": "ipython",
    "version": 3
   },
   "file_extension": ".py",
   "mimetype": "text/x-python",
   "name": "python",
   "nbconvert_exporter": "python",
   "pygments_lexer": "ipython3",
   "version": "3.10.6"
  },
  "orig_nbformat": 4
 },
 "nbformat": 4,
 "nbformat_minor": 2
}
