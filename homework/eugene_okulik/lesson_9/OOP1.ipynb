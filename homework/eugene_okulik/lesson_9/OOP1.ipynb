{
 "cells": [
  {
   "attachments": {},
   "cell_type": "markdown",
   "metadata": {},
   "source": [
    "# OOP"
   ]
  },
  {
   "attachments": {},
   "cell_type": "markdown",
   "metadata": {},
   "source": [
    "Объект — это экземпляр класса. В Python, чтобы создать объект класса, нам просто нужно вписать название класса, с последующими открывающимися и закрывающимися скобками."
   ]
  },
  {
   "cell_type": "code",
   "execution_count": 3,
   "metadata": {},
   "outputs": [
    {
     "name": "stdout",
     "output_type": "stream",
     "text": [
      "4\n",
      "4\n",
      "иду\n",
      "ням ням\n"
     ]
    }
   ],
   "source": [
    "class Cat:\n",
    "    pows = 4\n",
    "    tail = True\n",
    "    eyes = 2\n",
    "    fur = True\n",
    "\n",
    "    def go(self):\n",
    "        # команды, описывающие как ходит кот\n",
    "        print('иду')\n",
    "\n",
    "    def eat(self):\n",
    "        print('ням ням')\n",
    "\n",
    "    def sleep(self):\n",
    "        pass\n",
    "\n",
    "    def meow(self):\n",
    "        pass\n",
    "\n",
    "barsik = Cat()\n",
    "murzik = Cat()\n",
    "print(barsik.pows)\n",
    "print(murzik.pows)\n",
    "barsik.go()\n",
    "murzik.eat()"
   ]
  },
  {
   "attachments": {},
   "cell_type": "markdown",
   "metadata": {},
   "source": [
    "Атрибуты класса делятся среди всех объектов класса, в то время как атрибуты экземпляров являются собственностью экземпляра. Атрибуты экземпляра объявляются внутри любого метода, в то время как атрибуты класса объявляются вне любого метода.\n",
    "\n",
    "Для того, чтобы получить доступ к атрибутам класса, вам нужно только вписать имя объекта, за которым следует оператор точка \".\" и название атрибута или метода, к которому вы хотите получить доступ или вызов, соответственно.\n",
    "\n",
    "Метод - действие, которое может производить ваш объект. Например, бегать, прыгать. В Python методы - функции, которые первым аргументом принимают экземпляр объекта. По традиции именования этот аргумент называют self - \"я\". Обращение к методу также идёт через точку. Вызов метода - через круглые скобки. Параметр self передавать не надо."
   ]
  },
  {
   "cell_type": "code",
   "execution_count": 2,
   "metadata": {},
   "outputs": [
    {
     "name": "stdout",
     "output_type": "stream",
     "text": [
      "3\n",
      "иду медленно\n"
     ]
    }
   ],
   "source": [
    "class Cat:\n",
    "    tail = True\n",
    "    eyes = 2\n",
    "    fur = True\n",
    "\n",
    "    def __init__(self, name, speed, pows=4):\n",
    "        self.name = name\n",
    "        self.speed = speed\n",
    "        self.pows = pows\n",
    "\n",
    "    def go(self):\n",
    "        if self.speed == 'fast':\n",
    "            print('иду быстро')\n",
    "        else:\n",
    "            print('иду медленно')\n",
    "\n",
    "    def eat(self):\n",
    "        print('ням ням')\n",
    "\n",
    "    def sleep(self):\n",
    "        pass\n",
    "\n",
    "    def meow(self):\n",
    "        pass\n",
    "\n",
    "barsik = Cat('Barsik', 'fast')\n",
    "murzik = Cat('Murzik', 'slow', pows=3)\n",
    "murzik.speed\n",
    "print(murzik.pows)\n",
    "murzik.go()"
   ]
  },
  {
   "attachments": {},
   "cell_type": "markdown",
   "metadata": {},
   "source": [
    "Можно изменить какую-то характеристику уже созданного экземпляра"
   ]
  },
  {
   "cell_type": "code",
   "execution_count": 3,
   "metadata": {},
   "outputs": [
    {
     "name": "stdout",
     "output_type": "stream",
     "text": [
      "slow Васька\n"
     ]
    }
   ],
   "source": [
    "barsik.name = 'Васька'\n",
    "barsik.speed = 'slow'\n",
    "print(barsik.speed, barsik.name)"
   ]
  },
  {
   "attachments": {},
   "cell_type": "markdown",
   "metadata": {},
   "source": [
    "Примеры файлов с данными"
   ]
  },
  {
   "cell_type": "code",
   "execution_count": null,
   "metadata": {},
   "outputs": [],
   "source": [
    "# data1.txt\n",
    "{\"Country\": \"Turkey\", \"avg_temp\": 30}\n",
    "# data2.txt\n",
    "{\"Country\": \"Greece\", \"avg_temp\": 28}"
   ]
  },
  {
   "attachments": {},
   "cell_type": "markdown",
   "metadata": {},
   "source": [
    "Работа с файлами без помощи классов"
   ]
  },
  {
   "cell_type": "code",
   "execution_count": 9,
   "metadata": {},
   "outputs": [
    {
     "name": "stdout",
     "output_type": "stream",
     "text": [
      "Turkey {'Country': 'Turkey', 'avg_temp': 30}\n",
      "Greece {'Country': 'Greece', 'avg_temp': 28}\n"
     ]
    }
   ],
   "source": [
    "import json\n",
    "\n",
    "def read_file(filename):\n",
    "    with open(filename, 'r') as data_file:\n",
    "        return data_file.read()\n",
    "    \n",
    "data1 = json.loads(read_file('data1.txt'))\n",
    "data2 = json.loads(read_file('data2.txt'))\n",
    "print(data1['Country'], data1)\n",
    "print(data2['Country'], data2)"
   ]
  },
  {
   "attachments": {},
   "cell_type": "markdown",
   "metadata": {},
   "source": [
    "Работа с файлами при помощи классов"
   ]
  },
  {
   "cell_type": "code",
   "execution_count": 12,
   "metadata": {},
   "outputs": [
    {
     "name": "stdout",
     "output_type": "stream",
     "text": [
      "Turkey\n",
      "28\n"
     ]
    }
   ],
   "source": [
    "import json\n",
    "\n",
    "class CountryData:\n",
    "    def __init__(self, my_filename):\n",
    "        self.filename = my_filename\n",
    "        self.data = json.loads(self.read_file())\n",
    "        self.country = self.data['Country']\n",
    "        self.avg_temp = self.data['avg_temp']\n",
    "\n",
    "    def read_file(self):\n",
    "        with open(self.filename, 'r') as data_file:\n",
    "            return data_file.read()\n",
    "        \n",
    "data1 = CountryData('data1.txt')\n",
    "print(data1.country)\n",
    "data2 = CountryData('data2.txt')\n",
    "print(data2.avg_temp)\n",
    "\n"
   ]
  },
  {
   "attachments": {},
   "cell_type": "markdown",
   "metadata": {},
   "source": [
    "Создание дочернего класса, который наследует всё у родительского класса"
   ]
  },
  {
   "cell_type": "code",
   "execution_count": null,
   "metadata": {},
   "outputs": [],
   "source": [
    "# data3.txt\n",
    "{\"Country\": \"Poland\", \"avg_temp\": 15, \"min_temp\": 2}"
   ]
  },
  {
   "cell_type": "code",
   "execution_count": 15,
   "metadata": {},
   "outputs": [
    {
     "name": "stdout",
     "output_type": "stream",
     "text": [
      "Poland 15 2 True\n"
     ]
    }
   ],
   "source": [
    "class CountryDataWithMinTemp(CountryData):\n",
    "    def __init__(self, filename):\n",
    "        super().__init__(filename)\n",
    "        self.min_temp = self.data['min_temp']\n",
    "\n",
    "    def contrasts(self):\n",
    "        return True if self.avg_temp - self.min_temp > 10 else False\n",
    "\n",
    "data3 = CountryDataWithMinTemp('data3.txt')\n",
    "print(data3.country, data3.avg_temp, data3.min_temp, data3.contrasts())"
   ]
  },
  {
   "attachments": {},
   "cell_type": "markdown",
   "metadata": {},
   "source": [
    "Создание класса для работы с однотипными файлами данных упрощает последующую работу с такими же файлами. Вам больше не нужно будет запускать чтение файла отдельно и получать данные из него с помощью квадратных скобок. Все необходимые данные уже будут храниться внутри экземпляра. Для создание экземпляра вам будет необходимо только указать имя файла."
   ]
  },
  {
   "attachments": {},
   "cell_type": "markdown",
   "metadata": {},
   "source": [
    "## Чтение файлов\n",
    "Ниже - два куска кода, которые делают абсолютно одно и то же (читают содержимое файла), но первый вариант можно считать запрещенным. При чтении файла важно не забывать закрывать его после окончания работы с ним. Для того, чтобы гарантировать его закрытие, существует подход, называющийся \"Менеджер контекста\" (второй в примере).\n",
    "Когда работа с файлом происходит с помощью менеджера контекста (with), то после того как отработал весь код, написанный в этом блоке, для открытого файла автоматически вызывается метод __exit__, который и закрывает файл."
   ]
  },
  {
   "cell_type": "code",
   "execution_count": null,
   "metadata": {},
   "outputs": [],
   "source": [
    "txt_file = open('data1.txt', 'r')\n",
    "data = txt_file.read()\n",
    "txt_file.close()\n",
    "\n",
    "# ==\n",
    "\n",
    "with open('data1.txt', 'r') as txt_file:\n",
    "    data = txt_file.read()"
   ]
  }
 ],
 "metadata": {
  "kernelspec": {
   "display_name": "venv",
   "language": "python",
   "name": "python3"
  },
  "language_info": {
   "codemirror_mode": {
    "name": "ipython",
    "version": 3
   },
   "file_extension": ".py",
   "mimetype": "text/x-python",
   "name": "python",
   "nbconvert_exporter": "python",
   "pygments_lexer": "ipython3",
   "version": "3.10.6"
  },
  "orig_nbformat": 4
 },
 "nbformat": 4,
 "nbformat_minor": 2
}
