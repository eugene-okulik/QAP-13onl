{
 "cells": [
  {
   "attachments": {},
   "cell_type": "markdown",
   "metadata": {},
   "source": [
    "# OOP2"
   ]
  },
  {
   "attachments": {},
   "cell_type": "markdown",
   "metadata": {},
   "source": [
    "## Приципы ООП:\n",
    "- Инкапсуляция\n",
    "- Наследование\n",
    "- Полиморфизм\n"
   ]
  },
  {
   "attachments": {},
   "cell_type": "markdown",
   "metadata": {},
   "source": [
    "## Инкапсуляция\n",
    "Все данные объекта должны хранится в объекте. Никто не может изменить данные объекта без его ведома."
   ]
  },
  {
   "attachments": {},
   "cell_type": "markdown",
   "metadata": {},
   "source": [
    "## Наследование\n",
    "Объекты и их типы организуют иерархию типов. Дочерние типы наследуют свою функциональность от родительского класса, расширяя и дополняя её."
   ]
  },
  {
   "attachments": {},
   "cell_type": "markdown",
   "metadata": {},
   "source": [
    "## Полиморфизм\n",
    "Способность классов менять своё поведение в зависимости от типов операций и операндов. Полиморфизм в программировании реализуется через перегрузку метода, либо через его переопределение."
   ]
  },
  {
   "cell_type": "code",
   "execution_count": 39,
   "metadata": {},
   "outputs": [
    {
     "name": "stdout",
     "output_type": "stream",
     "text": [
      "Давим на газ. Мотор ревет\n",
      "тыг-дым,тыг-дым\n",
      "не умею так быстро, еду со скоростью 300\n",
      "мчу на скорости 30\n",
      "не умею так быстро, еду со скоростью 75\n"
     ]
    }
   ],
   "source": [
    "class Vehicle:\n",
    "    def __init__(self, max_speed=None) -> None:\n",
    "        self.max_speed = max_speed\n",
    "\n",
    "    def go(self):\n",
    "        print('как-то движется')\n",
    "\n",
    "    def go_fast(self, speed):\n",
    "        if self.max_speed and self.max_speed >= speed:\n",
    "            print(f'мчу на скорости {speed}')\n",
    "        elif self.max_speed and self.max_speed < speed:\n",
    "            print(f'не умею так быстро, еду со скоростью {self.max_speed}')\n",
    "        else:\n",
    "            print('я не знаю как двигаться')\n",
    "\n",
    "\n",
    "\n",
    "class Car(Vehicle):\n",
    "    def __init__(self, max_speed, weight=None) -> None:\n",
    "        super().__init__(max_speed)\n",
    "        self.weight = weight\n",
    "        \n",
    "\n",
    "    \n",
    "    def go(self):\n",
    "        print('Давим на газ. Мотор ревет')\n",
    "\n",
    "    def __str__(self):\n",
    "        return f'Это автомобиль с максимальной скоростью {self.max_speed}'\n",
    "    \n",
    "    def __gt__(self, obj):\n",
    "        return self.max_speed + self.weight * 0.3 > obj.max_speed + obj.weight * 0.3\n",
    "    \n",
    "    def __ge__(self, obj):\n",
    "        return self.max_speed >= obj.max_speed\n",
    "    \n",
    "    def __add__(self, obj):\n",
    "        avg_speed = (self.max_speed + obj.max_speed)/2\n",
    "        return Car(avg_speed)\n",
    "    \n",
    "\n",
    "\n",
    "\n",
    "class Horse(Vehicle):\n",
    "    def __init__(self) -> None:\n",
    "        super().__init__(max_speed=75)\n",
    "\n",
    "    def go(self):\n",
    "        print('тыг-дым,тыг-дым')\n",
    "\n",
    "\n",
    "bmw = Car(300, 2000)\n",
    "bmw.go()\n",
    "strela = Horse()\n",
    "strela.go()\n",
    "bmw.go_fast(500)\n",
    "strela.go_fast(30)\n",
    "strela.go_fast(80)"
   ]
  },
  {
   "attachments": {},
   "cell_type": "markdown",
   "metadata": {},
   "source": [
    "# Магические методы"
   ]
  },
  {
   "attachments": {},
   "cell_type": "markdown",
   "metadata": {},
   "source": [
    "Метод конвертации в строку `__str__` Каждый объект Python по умолчанию содержит метод `__str__`. Когда вы используете объект в качестве строки, вызывается метод `__str__`, который по умолчанию выводит локацию памяти объекта. Однако, вы также можете предоставить собственное определение метода `__str__`."
   ]
  },
  {
   "cell_type": "code",
   "execution_count": 19,
   "metadata": {},
   "outputs": [
    {
     "name": "stdout",
     "output_type": "stream",
     "text": [
      "Это автомобиль с максимальной скоростью 300\n",
      "1\n",
      "True\n"
     ]
    }
   ],
   "source": [
    "print(bmw)  # == print(str(bmw))\n",
    "print(1)  # == print(str(1))\n",
    "print(True)  # == print(str(True))"
   ]
  },
  {
   "cell_type": "code",
   "execution_count": 21,
   "metadata": {},
   "outputs": [
    {
     "name": "stdout",
     "output_type": "stream",
     "text": [
      "1\n",
      "Это автомобиль с максимальной скоростью 300\n",
      "<__main__.Horse object at 0x7fa9201630d0>\n"
     ]
    }
   ],
   "source": [
    "str(1)  # == 1.__str__()\n",
    "str(bmw)\n",
    "a = 1\n",
    "print(a.__str__())\n",
    "print(bmw.__str__())\n",
    "print(strela)"
   ]
  },
  {
   "cell_type": "markdown",
   "metadata": {},
   "source": [
    "Метод проверки на неравенство `__gt__`, `__lt__`, `__ge__`, `__le__`"
   ]
  },
  {
   "cell_type": "code",
   "execution_count": 41,
   "metadata": {},
   "outputs": [
    {
     "name": "stdout",
     "output_type": "stream",
     "text": [
      "False\n",
      "беру бмв\n",
      "True\n"
     ]
    }
   ],
   "source": [
    "zaz = Car(100, 800)\n",
    "print(zaz > bmw)  # == zaz.__ge__(bmw)\n",
    "if zaz > bmw:\n",
    "    print('беру заз')\n",
    "else:\n",
    "    print('беру бмв')\n",
    "print(zaz <= bmw)"
   ]
  },
  {
   "attachments": {},
   "cell_type": "markdown",
   "metadata": {},
   "source": [
    "Арифметические методы `__add__`, `__sub__`, `__mul__`, `__div__`, `__xor__`, `__and__`, ..."
   ]
  },
  {
   "cell_type": "code",
   "execution_count": 42,
   "metadata": {},
   "outputs": [
    {
     "name": "stdout",
     "output_type": "stream",
     "text": [
      "Это автомобиль с максимальной скоростью 200.0\n"
     ]
    }
   ],
   "source": [
    "print(zaz + bmw)  #  zaz.__add__(bmw)"
   ]
  },
  {
   "attachments": {},
   "cell_type": "markdown",
   "metadata": {},
   "source": [
    "# Защита данных внутри объекта"
   ]
  },
  {
   "cell_type": "code",
   "execution_count": 45,
   "metadata": {},
   "outputs": [
    {
     "name": "stdout",
     "output_type": "stream",
     "text": [
      "4\n",
      "1\n",
      "4\n"
     ]
    }
   ],
   "source": [
    "class Cat:\n",
    "    pows = 4\n",
    "    tail = True\n",
    "    eyes = 2\n",
    "    fur = True\n",
    "\n",
    "murzik = Cat()\n",
    "print(murzik.pows)\n",
    "murzik.pows = 1\n",
    "print(murzik.pows)\n",
    "del murzik.pows\n",
    "print(murzik.pows)"
   ]
  },
  {
   "attachments": {},
   "cell_type": "markdown",
   "metadata": {},
   "source": [
    "Все свойства класса обычно оформляются в защищенном от изменения виде для соответствия принципам ООП (инкапсуляция). Для этого перед названием переменной добавляется два нижних подчеркивания.  \n",
    "К такому свойству объекта невозможно обратиться напрямую.  \n",
    "Если создатель класса хочет обозначить, что обращаться к этому свойству можно, то он создает специальные функции, помеченные как `property`  \n",
    "Функция помеченная декоратором `@property` предоставляет доступ к значению  \n",
    "Если есть необходимость предоставить доступ к изменению или удалению значения, то для этого создаются функции, помеченные как `setter` или `deleter` соответственно."
   ]
  },
  {
   "cell_type": "code",
   "execution_count": 54,
   "metadata": {},
   "outputs": [
    {
     "name": "stdout",
     "output_type": "stream",
     "text": [
      "True\n",
      "2\n",
      "None\n"
     ]
    }
   ],
   "source": [
    "class Cat:\n",
    "    __pows = 4\n",
    "    __tail = True\n",
    "    __eyes = 2\n",
    "    __fur = True\n",
    "\n",
    "    def __init__(self) -> None:\n",
    "        self.__var = 0\n",
    "\n",
    "    def go(self):\n",
    "        print(self.__tail)\n",
    "\n",
    "    @property\n",
    "    def pows(self):\n",
    "        return self.__pows\n",
    "    \n",
    "    @pows.setter\n",
    "    def pows(self, value):\n",
    "        self.__pows = value\n",
    "\n",
    "    @pows.deleter\n",
    "    def pows(self):\n",
    "        self.__pows = None\n",
    "    \n",
    "\n",
    "\n",
    "\n",
    "murzik = Cat()\n",
    "# print(murzik.__tail)\n",
    "murzik.go()\n",
    "murzik.pows = 2\n",
    "print(murzik.pows)\n",
    "del murzik.pows\n",
    "print(murzik.pows)"
   ]
  },
  {
   "attachments": {},
   "cell_type": "markdown",
   "metadata": {},
   "source": [
    "# dataclass"
   ]
  },
  {
   "attachments": {},
   "cell_type": "markdown",
   "metadata": {},
   "source": [
    "Если класс используется только для того, чтобы хранить и структурировать данные, то нет необходимости создавать полноценный класс для него со всеми атрибутами класса (`__init__()`, `__str__()`).  \n",
    "Достаточно пометить класс как dataclass с помощью декоратора и перечислить в нем поля, содержащиеся в этом классе. Методы `__init__()` и `__str__()` для таких классов создаются автоматически и неявно."
   ]
  },
  {
   "cell_type": "code",
   "execution_count": 56,
   "metadata": {},
   "outputs": [
    {
     "name": "stdout",
     "output_type": "stream",
     "text": [
      "Group(title=QAP13-onl, people=13)\n"
     ]
    }
   ],
   "source": [
    "class Group:\n",
    "    def __init__(self, title, ppl_qty, group_id) -> None:\n",
    "        self.title = title\n",
    "        self.ppl_qty = ppl_qty\n",
    "        self.id = group_id\n",
    "\n",
    "    def __str__(self):\n",
    "        return f'Group(title={self.title}, people={self.ppl_qty})'\n",
    "\n",
    "qap13 = Group(title='QAP13-onl', ppl_qty=13, group_id=135)\n",
    "print(qap13)"
   ]
  },
  {
   "cell_type": "code",
   "execution_count": 58,
   "metadata": {},
   "outputs": [
    {
     "name": "stdout",
     "output_type": "stream",
     "text": [
      "Group(title='QAP13-onl', ppl_qty=13, group_id=135)\n",
      "QAP13-onl\n"
     ]
    }
   ],
   "source": [
    "from dataclasses import dataclass\n",
    "\n",
    "@dataclass\n",
    "class Group:\n",
    "    title: str\n",
    "    ppl_qty: int\n",
    "    group_id: int\n",
    "\n",
    "qap13 = Group(title='QAP13-onl', ppl_qty=13, group_id=135)\n",
    "print(qap13)\n",
    "\n",
    "print(qap13.title)"
   ]
  }
 ],
 "metadata": {
  "kernelspec": {
   "display_name": "venv",
   "language": "python",
   "name": "python3"
  },
  "language_info": {
   "codemirror_mode": {
    "name": "ipython",
    "version": 3
   },
   "file_extension": ".py",
   "mimetype": "text/x-python",
   "name": "python",
   "nbconvert_exporter": "python",
   "pygments_lexer": "ipython3",
   "version": "3.10.6"
  },
  "orig_nbformat": 4
 },
 "nbformat": 4,
 "nbformat_minor": 2
}
