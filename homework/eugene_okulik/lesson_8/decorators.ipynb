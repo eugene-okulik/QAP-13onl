{
 "cells": [
  {
   "attachments": {},
   "cell_type": "markdown",
   "metadata": {},
   "source": [
    "# Decorators"
   ]
  },
  {
   "attachments": {},
   "cell_type": "markdown",
   "metadata": {},
   "source": [
    "Мы можем обращаться к функции, как к переменной, хранящей в себе тело функции. Если мы обращаемся к функции и ставим скобки, то мы выполняем эту функцию, а если скобки не ставим, то мы просто передаем содержимое этой функции (её тело)"
   ]
  },
  {
   "cell_type": "code",
   "execution_count": 5,
   "metadata": {},
   "outputs": [
    {
     "name": "stdout",
     "output_type": "stream",
     "text": [
      "<function my_func at 0x7f824ed3ec20>\n",
      "5\n"
     ]
    }
   ],
   "source": [
    "def my_func(x):\n",
    "    return x + 2\n",
    "\n",
    "my_var = my_func\n",
    "\n",
    "print(my_var)\n",
    "print(my_var(3))"
   ]
  },
  {
   "attachments": {},
   "cell_type": "markdown",
   "metadata": {},
   "source": [
    "Функция my_func2 возвращает результат работы функции hello"
   ]
  },
  {
   "cell_type": "code",
   "execution_count": 15,
   "metadata": {},
   "outputs": [
    {
     "name": "stdout",
     "output_type": "stream",
     "text": [
      "hello\n"
     ]
    }
   ],
   "source": [
    "def my_func2():\n",
    "\n",
    "    def hello():\n",
    "        return 'hello'\n",
    "    \n",
    "    return hello()\n",
    "\n",
    "my_func2_result = my_func2()\n",
    "print(my_func2_result)"
   ]
  },
  {
   "attachments": {},
   "cell_type": "markdown",
   "metadata": {},
   "source": [
    "Функция my_func2 возвращает тело функции hello  \n",
    "Результат вызова функции my_func2() - тело функции hello Для того, чтобы это тело было выполнено, нужно поставить дополнительные скобки или сохранить результат работы my_func2() в переменную и обратиться к переменной как к функции (т.е. со скобками)"
   ]
  },
  {
   "cell_type": "code",
   "execution_count": 14,
   "metadata": {},
   "outputs": [
    {
     "name": "stdout",
     "output_type": "stream",
     "text": [
      "<function my_func2.<locals>.hello at 0x7f824ed3e8c0>\n",
      "hello\n",
      "<function my_func2.<locals>.hello at 0x7f824c2e67a0>\n",
      "hello\n"
     ]
    }
   ],
   "source": [
    "def my_func2():\n",
    "\n",
    "    def hello():\n",
    "        return 'hello'\n",
    "    \n",
    "    return hello\n",
    "\n",
    "my_func2_result = my_func2()\n",
    "print(my_func2_result)\n",
    "print(my_func2_result())\n",
    "print(my_func2())\n",
    "print(my_func2()())"
   ]
  },
  {
   "attachments": {},
   "cell_type": "markdown",
   "metadata": {},
   "source": [
    "Мы можем передать функцию на вход другой функции в качестве аргумента. В таком случае, можно будет использовать переданную функцию (simple) внутри функции получателя (my_func3)"
   ]
  },
  {
   "cell_type": "code",
   "execution_count": 19,
   "metadata": {},
   "outputs": [
    {
     "name": "stdout",
     "output_type": "stream",
     "text": [
      "one\n",
      "simple\n",
      "two\n"
     ]
    }
   ],
   "source": [
    "def simple():\n",
    "    print('simple')\n",
    "\n",
    "def my_func3(func):\n",
    "    print('one')\n",
    "    func()\n",
    "    print('two')\n",
    "\n",
    "\n",
    "\n",
    "my_func3(simple)"
   ]
  },
  {
   "attachments": {},
   "cell_type": "markdown",
   "metadata": {},
   "source": [
    "Таким кодом мы создадим функцию-декоратор, котоый содержит в себе функцию-обертку. В результате своей работы, функция-декоратор возвращает тело функции-обертки с уже подставленной в неё функцией."
   ]
  },
  {
   "cell_type": "code",
   "execution_count": 23,
   "metadata": {},
   "outputs": [
    {
     "name": "stdout",
     "output_type": "stream",
     "text": [
      "one\n",
      "simple0\n",
      "two\n"
     ]
    }
   ],
   "source": [
    "def main_func(func):\n",
    "\n",
    "    def wrapper():\n",
    "        print('one')\n",
    "        func()\n",
    "        print('two')\n",
    "\n",
    "    return wrapper\n",
    "\n",
    "def simple():\n",
    "    print('simple0')\n",
    "\n",
    "\n",
    "\n",
    "simple = main_func(simple)\n",
    "\n",
    "simple()\n"
   ]
  },
  {
   "attachments": {},
   "cell_type": "markdown",
   "metadata": {},
   "source": [
    "А этот код аналогичен предыдущему, но вместо явного создания переменной и перезаписывания функции simple мы используем декоратор"
   ]
  },
  {
   "cell_type": "code",
   "execution_count": 24,
   "metadata": {},
   "outputs": [
    {
     "name": "stdout",
     "output_type": "stream",
     "text": [
      "one\n",
      "simple0\n",
      "two\n"
     ]
    }
   ],
   "source": [
    "def main_func(func):\n",
    "\n",
    "    def wrapper():\n",
    "        print('one')\n",
    "        func()\n",
    "        print('two')\n",
    "\n",
    "    return wrapper\n",
    "\n",
    "@main_func  \n",
    "def simple():\n",
    "    print('simple0')\n",
    "\n",
    "# simple = main_func(simple)\n",
    "\n",
    "simple()"
   ]
  },
  {
   "cell_type": "code",
   "execution_count": 28,
   "metadata": {},
   "outputs": [
    {
     "name": "stdout",
     "output_type": "stream",
     "text": [
      "Summ of number is:\n",
      "3\n"
     ]
    }
   ],
   "source": [
    "def prettify(func):\n",
    "\n",
    "    def wrapper(a, b):\n",
    "        print('Summ of number is:')\n",
    "        print(func(a, b))\n",
    "\n",
    "    return wrapper\n",
    "\n",
    "@prettify\n",
    "def calc(a, b):\n",
    "    return a + b\n",
    "\n",
    "@prettify\n",
    "def calc_mult(a, b):\n",
    "   return a * b\n",
    "\n",
    "calc(1, 2)"
   ]
  },
  {
   "cell_type": "code",
   "execution_count": 32,
   "metadata": {},
   "outputs": [
    {
     "name": "stdout",
     "output_type": "stream",
     "text": [
      "(1, 2)\n",
      "1 2\n",
      "Summ of number is:\n",
      "3\n",
      "(1, 2, 3)\n",
      "1 2 3\n",
      "Summ of number is:\n",
      "6\n"
     ]
    }
   ],
   "source": [
    "def prettify(func):\n",
    "\n",
    "    def wrapper(*args):\n",
    "        print(args) # print((1, 2))\n",
    "        print(*args) # print(1, 2)\n",
    "        print('Summ of number is:')\n",
    "        print(func(*args)) # func(1, 2)\n",
    "\n",
    "    return wrapper\n",
    "\n",
    "@prettify\n",
    "def calc(a, b):\n",
    "    return a + b\n",
    "\n",
    "@prettify\n",
    "def calc_three(a, b, c):\n",
    "    return a + b + c\n",
    "\n",
    "\n",
    "calc(1, 2)\n",
    "calc_three(1, 2, 3)"
   ]
  },
  {
   "cell_type": "code",
   "execution_count": 37,
   "metadata": {},
   "outputs": [
    {
     "name": "stdout",
     "output_type": "stream",
     "text": [
      "</\"\"\"\"\"\"\"\"\"\"\\>\n",
      "#Помидорка#\n",
      "------ham------\n",
      "~Лист салата~\n",
      "<\\__________/>\n"
     ]
    }
   ],
   "source": [
    "def bread(func):\n",
    "\n",
    "    def wrapper():\n",
    "        print('</\"\"\"\"\"\"\"\"\"\"\\>')\n",
    "        func()\n",
    "        print('<\\__________/>')\n",
    "\n",
    "    return wrapper\n",
    "\n",
    "def veggies(func):\n",
    "\n",
    "    def wrapper():\n",
    "        print('#Помидорка#')\n",
    "        func()\n",
    "        print('~Лист салата~')\n",
    "\n",
    "    return wrapper\n",
    "\n",
    "@bread\n",
    "@veggies\n",
    "def ham():\n",
    "    print('------ham------')\n",
    "\n",
    "\n",
    "ham()"
   ]
  }
 ],
 "metadata": {
  "kernelspec": {
   "display_name": "venv",
   "language": "python",
   "name": "python3"
  },
  "language_info": {
   "codemirror_mode": {
    "name": "ipython",
    "version": 3
   },
   "file_extension": ".py",
   "mimetype": "text/x-python",
   "name": "python",
   "nbconvert_exporter": "python",
   "pygments_lexer": "ipython3",
   "version": "3.10.6"
  },
  "orig_nbformat": 4
 },
 "nbformat": 4,
 "nbformat_minor": 2
}
